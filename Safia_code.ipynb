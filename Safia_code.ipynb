{
 "cells": [
  {
   "cell_type": "code",
   "execution_count": 1,
   "id": "3879257e-0233-4d16-939e-6d006963a2e3",
   "metadata": {},
   "outputs": [
    {
     "name": "stdout",
     "output_type": "stream",
     "text": [
      "2024-04-21 20:47:06.219360\n",
      "2024-04-21 20:47:06.219360-04:00\n",
      "EDT\n"
     ]
    }
   ],
   "source": [
    "import tkinter as tk\n",
    "from tkinter import ttk\n",
    "from tkinter import filedialog\n",
    "import datetime # one module for working with dates and times\n",
    "import csv\n",
    "import json\n",
    "\n",
    "# dates and times can be tricky. consult the datetime documentation.\n",
    "now = datetime.datetime.now() # gets the current date and time\n",
    "local_now = now.astimezone() # shows the local time and the GMT offset\n",
    "local_tz = local_now.tzinfo \n",
    "\n",
    "print(now)\n",
    "print(local_now)\n",
    "print(local_tz)\n",
    "\n",
    "# create a string of dummy text for practice notes\n",
    "lorem = 'Lorem ipsum dolor sit amet, consectetur adipiscing elit. Etiam sit amet suscipit mi, non porttitor mauris. Aliquam in lorem risus. Proin mauris mauris, varius ac vulputate sed, tempor nec lacus. Morbi sodales turpis in placerat semper. Donec bibendum blandit ante sit amet hendrerit.'\n",
    "notes = []\n",
    "# function for submitting (doing something) with the note title and note text\n",
    "# also creates some metadata\n",
    "\n",
    "def submit():\n",
    "    global notes\n",
    "    created = datetime.datetime.now()\n",
    "    title = note_title.get()\n",
    "    text = note_text.get('1.0', 'end').strip('\\n')\n",
    "    meta = f'created {created}, {local_tz}'\n",
    "    note_dict = {'title':title, 'text':text, 'meta':meta}\n",
    "    notes.append(note_dict)\n",
    "    filetext=f\"{title}\\n{text}\\n{meta}\"\n",
    "    print(title)\n",
    "    print(text)\n",
    "    print(meta)\n",
    "    return filetext\n",
    "    \n",
    "def open_file():\n",
    "    filepath = filedialog.askopenfilename(initialdir=\"C:/Users/safiaahmed/Desktop/INST326\",\n",
    "                                         filetypes=[(\"text files\", \"*.txt\"), \n",
    "                                                    (\"csv files\", \".csv\"),\n",
    "                                                    (\"json files\", \"*.json\"),\n",
    "                                                    (\"all files\", \"*.*\")])\n",
    "        \n",
    "    file = open(filepath, \"r\")\n",
    "    file_list = file.read().split('\\n')\n",
    "    file.close()\n",
    "    note_title.delete(0, 'end')\n",
    "    note_text.delete('1.0', 'end')\n",
    "    note_title.insert(0, file_list[0])\n",
    "    note_text.insert('1.0', file_list[1])\n",
    "    meta = file_list[2]\n",
    "    print(meta)\n",
    "    \n",
    "    \n",
    "\n",
    "def save_file():\n",
    "    file = filedialog.asksaveasfile(initialdir=\"C:/Users/safiaahmed/Desktop/INST326\",\n",
    "                                          defaultextension=\".txt\", \n",
    "                                    title=\"my first dialog box\",\n",
    "                                          filetypes=[(\"text file\", \".txt\"), \n",
    "                                                    (\"csv files\", \".csv\"),\n",
    "                                                    (\"json files\", \"*.json\"),\n",
    "                                                    (\"all files\", \"*.*\")])\n",
    "    filetext=submit()\n",
    "    file.write(filetext)\n",
    "    file.close()\n",
    "    \n",
    "    \n",
    "\n",
    "# create the main window for our note form. Note the shift to calling it 'root'\n",
    "root = tk.Tk()\n",
    "root.geometry(\"600x400\")\n",
    "root.title('Note Form')\n",
    "root.config(bg='light gray')\n",
    "\n",
    "# create some labels for the note title and note text\n",
    "# we are using the grid layout. Notice the sticky='e' attribute. \n",
    "# this causes the label to 'stick' to the 'east' side of the grid cell\n",
    "title_label = tk.Label(root, bg='light gray', text='Note Title:')\n",
    "title_label.grid(padx=10, pady=10, row=1, column=0, sticky='e')\n",
    "\n",
    "text_label = tk.Label(root, bg='light gray', text='Note Text:')\n",
    "text_label.grid(padx=10, pady=10, row=2, column=0, sticky='e')\n",
    "\n",
    "link_label = tk.Label(root, bg='light gray', text='Note Title:')\n",
    "link_label.grid(padx=10, pady=10, row=3, column=0, sticky='e')\n",
    "\n",
    "tag_label = tk.Label(root, bg='light gray', text='Note Title:')\n",
    "tag_label.grid(padx=10, pady=10, row=4, column=0, sticky='e')\n",
    "\n",
    "# create our note title entry field\n",
    "note_title = tk.Entry(root, width=80)\n",
    "note_title.grid(padx=10, pady=10, row=1, column=1, sticky='w')\n",
    "note_title.insert(0, 'New note title') # adds default text (useful during development)\n",
    "\n",
    "# create our note text field\n",
    "note_text = tk.Text(root, height=10, width=60)\n",
    "note_text.grid(padx=10, pady=10, row=2, column=1)\n",
    "note_text.insert('1.0', lorem) # adds default text (useful during development)\n",
    "\n",
    "# create our note link entry field\n",
    "note_link = tk.Entry(root, width=80)\n",
    "note_link.grid(padx=10, pady=10, row=3, column=1, sticky='w')\n",
    "note_link.insert(0, 'If there is a link with this note enter it here. Else, enter \"None\"') # adds default text (useful during development)\n",
    "\n",
    "# create our note link entry field\n",
    "note_tags = tk.Entry(root, width=80)\n",
    "note_tags.grid(padx=10, pady=10, row=4, column=1, sticky='w')\n",
    "note_tags.insert(0, 'Enter #tags, separated by commas') # adds default text (useful during development)\n",
    "\n",
    "# note that the parameters for the Entry box and Text box are slightly different.\n",
    "\n",
    "\n",
    "\n",
    "# create some buttons and add them to the grid\n",
    "b1 = tk.Button(root, text='submit', command=submit)\n",
    "b1.grid(padx=10, pady=10, row=6, column=1, sticky='w')\n",
    "\n",
    "b2 = tk.Button(root, text='open file', command=open_file)\n",
    "b2.grid(padx=10, pady=10, row=5, column=1, sticky='w')\n",
    "\n",
    "b3 = tk.Button(root, text='save file', command=save_file)\n",
    "b3.grid(padx=10, pady=10, row=5, column=0)\n",
    "\n",
    "b4 = tk.Button(root, text='quit', command=root.destroy)\n",
    "b4.grid(padx=10, pady=10, row=6, column=0)\n",
    "\n",
    "root.mainloop()"
   ]
  },
  {
   "cell_type": "code",
   "execution_count": 2,
   "id": "049a7d7e-2c72-461c-bb1f-c41886f2e0e7",
   "metadata": {},
   "outputs": [
    {
     "name": "stdout",
     "output_type": "stream",
     "text": [
      "[]\n"
     ]
    }
   ],
   "source": [
    "print(notes)"
   ]
  },
  {
   "cell_type": "code",
   "execution_count": 3,
   "id": "c3d9f656-bd64-43c7-b71e-0187f98eec85",
   "metadata": {},
   "outputs": [],
   "source": [
    "# save as a text file here\n",
    "with open (\"notes1.txt\", \"w\") as f:\n",
    "     for note in notes: \n",
    "        f.write(f\"{note['title']}\\n{note['text']}\\n{note['meta']}\\n\")"
   ]
  },
  {
   "cell_type": "code",
   "execution_count": 4,
   "id": "7eeffee5-553a-4cb5-9a03-5818f9552fa1",
   "metadata": {},
   "outputs": [],
   "source": [
    "# read in your text file here\n",
    "new_notes = []\n",
    "with open (\"notes1.txt\" , \"r\") as f:\n",
    "    lines = f.readlines()\n",
    "    for i in range(0, len(lines), 3):\n",
    "        title = lines[i].strip()\n",
    "        text = lines[i+1].strip()\n",
    "        meta = lines[i+2].strip()\n",
    "        new_notes.append({'title': title, 'text': text, 'meta': meta})"
   ]
  },
  {
   "cell_type": "code",
   "execution_count": 5,
   "id": "795efbb4-19f6-4156-b9da-f5cd59748040",
   "metadata": {},
   "outputs": [],
   "source": [
    "### save as a csv file here\n",
    "import csv\n",
    "with open(\"notes1.csv\", \"w\", newline='') as csvfile:\n",
    "    fieldnames = ['title', 'text', 'meta']\n",
    "    writer = csv.DictWriter(csvfile, fieldnames=fieldnames)\n",
    "    writer.writeheader()\n",
    "    for note in notes: \n",
    "        writer.writerow(note)"
   ]
  },
  {
   "cell_type": "code",
   "execution_count": 6,
   "id": "e3165396-106d-4af5-9af9-fd64466dcbd3",
   "metadata": {},
   "outputs": [
    {
     "name": "stdout",
     "output_type": "stream",
     "text": [
      "[]\n"
     ]
    }
   ],
   "source": [
    "# read in your csv file here\n",
    "new_notes_csv = []\n",
    "with open(\"notes1.csv\", \"r\", newline='') as csvfile:\n",
    "    reader = csv.DictReader(csvfile)\n",
    "    for row in reader:\n",
    "        print(row)\n",
    "        new_notes_csv.append(row)\n",
    "    print(new_notes_csv)"
   ]
  },
  {
   "cell_type": "code",
   "execution_count": 7,
   "id": "b208020f-9265-43bb-ab5b-956f7b03e264",
   "metadata": {},
   "outputs": [],
   "source": [
    "# save your json file here\n",
    "with open(\"notes1.json\" , \"w\") as jsonfile:\n",
    "    json.dump(notes, jsonfile)"
   ]
  },
  {
   "cell_type": "code",
   "execution_count": 8,
   "id": "af5af67e-9bcf-42b6-93b0-50bded4d167f",
   "metadata": {},
   "outputs": [],
   "source": [
    "# read your json file here\n",
    "import json \n",
    "with open(\"notes1.json\" , \"r\") as jsonfile:\n",
    "    new_note_json = json.load(jsonfile)"
   ]
  },
  {
   "cell_type": "code",
   "execution_count": 9,
   "id": "1e41a971-3642-4c1c-a47e-adb76c73a19a",
   "metadata": {},
   "outputs": [],
   "source": [
    "def display_text_file():\n",
    "    with open(\"/Users/safiaahmed/Desktop/INST326/Lab03N1.txt\", \"r\") as file_text:\n",
    "        notes1 = file_text.read()\n",
    "        print(notes1)\n",
    "\n",
    "def display_csv_file():\n",
    "    with open(\"/Users/safiaahmed/Desktop/INST326/LAB03N2.csv\", \"r\", newline='') as file_csv:\n",
    "        notes2 = csv.reader(file_csv)\n",
    "        for row in notes2:\n",
    "            print(row)\n",
    "\n",
    "def display_json_file():\n",
    "    with open(\"/Users/safiaahmed/Desktop/INST326/Lab03N3.json\", \"r\") as file_json:\n",
    "        notes3 = json.load(file_json)\n",
    "        print(notes3)"
   ]
  }
 ],
 "metadata": {
  "kernelspec": {
   "display_name": "Python 3 (ipykernel)",
   "language": "python",
   "name": "python3"
  },
  "language_info": {
   "codemirror_mode": {
    "name": "ipython",
    "version": 3
   },
   "file_extension": ".py",
   "mimetype": "text/x-python",
   "name": "python",
   "nbconvert_exporter": "python",
   "pygments_lexer": "ipython3",
   "version": "3.11.4"
  }
 },
 "nbformat": 4,
 "nbformat_minor": 5
}
