{
 "cells": [
  {
   "cell_type": "markdown",
   "id": "fa1620c3-933e-4e7f-b557-c67ed97b8213",
   "metadata": {},
   "source": [
    "New code to create snippets"
   ]
  },
  {
   "cell_type": "code",
   "execution_count": 1,
   "id": "84e22583-f12b-420f-aa37-8db905656947",
   "metadata": {},
   "outputs": [],
   "source": [
    "def save_snippet_to_file(text, filename):\n",
    "    with open(filename, \"w\") as file:\n",
    "        file.write(text)\n",
    "\n",
    "def read_snippet_from_file(filename):\n",
    "    with open(filename, \"r\") as file:\n",
    "        return file.read()\n",
    "\n",
    "def display_snippet(text, language):\n",
    "    print(\"Snippet Language:\", language)\n",
    "    print(\"Snippet Text:\", text)\n",
    "\n",
    "def edit_snippet(text, new_text):\n",
    "    return new_text"
   ]
  },
  {
   "cell_type": "markdown",
   "id": "3965001e-903b-4e36-b15e-1faaec824ced",
   "metadata": {},
   "source": [
    "Updated NoteForm class to allow notes to be edited"
   ]
  },
  {
   "cell_type": "code",
   "execution_count": null,
   "id": "dcbcc5fc-3c6b-400a-a83b-40e79cc5dbc7",
   "metadata": {},
   "outputs": [],
   "source": [
    "class NoteForm(tk.Toplevel):\n",
    "    def __init__(self, master, notebook, notes, note_to_edit=None):\n",
    "        super().__init__(master)\n",
    "        self.geometry(\"400x300\")\n",
    "        self.title('Note Form')\n",
    "        self.notebook = notebook\n",
    "        self.notes = notes\n",
    "        self.note_to_edit = note_to_edit\n",
    "        self.title_label = ttk.Label(self, text=\"Title:\")\n",
    "        self.title_label.pack(pady=5)\n",
    "        self.title_entry = ttk.Entry(self)\n",
    "        self.title_entry.pack(pady=5)\n",
    "        self.text_label = ttk.Label(self, text=\"Text:\")\n",
    "        self.text_label.pack(pady=5)\n",
    "        self.text_entry = tk.Text(self, width=30, height=10)\n",
    "        self.text_entry.pack(pady=5)\n",
    "        self.link_label = ttk.Label(self, text=\"Link:\")\n",
    "        self.link_label.pack(pady=5)\n",
    "        self.link_entry = ttk.Entry(self)\n",
    "        self.link_entry.pack(pady=5)\n",
    "        self.tag_label = ttk.Label(self, text=\"Tags:\")\n",
    "        self.tag_label.pack(pady=5)\n",
    "        self.tag_entry = ttk.Entry(self)\n",
    "        self.tag_entry.pack(pady=5)\n",
    "        \n",
    "        # If editing existing note, populate fields with existing data\n",
    "        if note_to_edit:\n",
    "            self.title_entry.insert(tk.END, note_to_edit[\"title\"])\n",
    "            self.text_entry.insert(tk.END, note_to_edit[\"text\"])\n",
    "            self.link_entry.insert(tk.END, note_to_edit[\"link\"])\n",
    "            self.tag_entry.insert(tk.END, note_to_edit[\"tags\"])\n",
    "\n",
    "        submit_button = ttk.Button(self, text=\"Submit\", command=self.submit)\n",
    "        submit_button.pack(pady=5)\n",
    "\n",
    "    def submit(self):\n",
    "        title = self.title_entry.get()\n",
    "        text = self.text_entry.get(\"1.0\", tk.END)\n",
    "        link = self.link_entry.get()\n",
    "        tags = self.tag_entry.get()  \n",
    "        metadata = {\n",
    "            \"timestamp\": datetime.datetime.now().isoformat(),\n",
    "            \"timezone\": datetime.datetime.now().astimezone().tzinfo.name}\n",
    "        \n",
    "        note_dict = {\n",
    "            \"title\": title,\n",
    "            \"text\": text,\n",
    "            \"link\": link,\n",
    "            \"tags\": tags,\n",
    "            \"metadata\": metadata}\n",
    "        \n",
    "        if self.note_to_edit:  # If editing existing note, update instead of appending\n",
    "            self.notes.remove(self.note_to_edit)\n",
    "        self.notes.append(note_dict)\n",
    "        self.master.display_notes()\n",
    "        self.destroy()"
   ]
  }
 ],
 "metadata": {
  "kernelspec": {
   "display_name": "Python 3 (ipykernel)",
   "language": "python",
   "name": "python3"
  },
  "language_info": {
   "codemirror_mode": {
    "name": "ipython",
    "version": 3
   },
   "file_extension": ".py",
   "mimetype": "text/x-python",
   "name": "python",
   "nbconvert_exporter": "python",
   "pygments_lexer": "ipython3",
   "version": "3.11.5"
  }
 },
 "nbformat": 4,
 "nbformat_minor": 5
}
